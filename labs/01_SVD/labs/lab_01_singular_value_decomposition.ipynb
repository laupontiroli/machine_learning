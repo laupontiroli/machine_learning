{
 "cells": [
  {
   "cell_type": "markdown",
   "metadata": {},
   "source": [
    "# Experiment: Which drugs are \"similar\", from prescription data?"
   ]
  },
  {
   "cell_type": "markdown",
   "metadata": {},
   "source": [
    "In the USA the social program for prescription drugs is the \"Medicare Part D Prescription Drug\" program. Data regarding the prescribed drugs per provider and drug are available at https://data.cms.gov/provider-summary-by-type-of-service/medicare-part-d-prescribers/medicare-part-d-prescribers-by-provider-and-drug/\n",
    "\n",
    "On this website you can select the columns you want. I downloaded only the code for the drug provider (`Prscrbr_NPI`), the type of provider (`Prscrbr_Type`), the generic name for the drug (`Gnrc_Name`) and the total number of claims made by this provider (`Tot_Clms`):\n",
    "\n",
    "<center><img src='./image.png' width=50%></img></center>\n",
    "\n",
    "As a result, I got a 197MB zip file. I made a folder named `data` and placed the file there. I also wrote a utility function to load this data and placed this code in a separate `.py` file (just so I don't pollute this notebook too much!). Let's load the data:"
   ]
  },
  {
   "cell_type": "code",
   "execution_count": 1,
   "metadata": {},
   "outputs": [],
   "source": [
    "from pathlib import Path\n",
    "\n",
    "import pandas as pd\n",
    "\n",
    "from utils import DATA_DIR, load_data"
   ]
  },
  {
   "cell_type": "code",
   "execution_count": 2,
   "metadata": {},
   "outputs": [
    {
     "name": "stdout",
     "output_type": "stream",
     "text": [
      "c:\\Users\\fjayr\\Dropbox\\Insper\\Disciplinas\\MachineLearning\\Common\\machine_learning\\labs\\01_SVD\\labs\\data\\Medicare_Part_D_Prescribers_by_Provider_and_Drug_2022.csv not found, extracting zip file\n",
      "Loading data from c:\\Users\\fjayr\\Dropbox\\Insper\\Disciplinas\\MachineLearning\\Common\\machine_learning\\labs\\01_SVD\\labs\\data\\Medicare_Part_D_Prescribers_by_Provider_and_Drug_2022.csv\n"
     ]
    }
   ],
   "source": [
    "df = load_data()"
   ]
  },
  {
   "cell_type": "markdown",
   "metadata": {},
   "source": [
    "## Exploratory analysis"
   ]
  },
  {
   "cell_type": "markdown",
   "metadata": {},
   "source": [
    "What does the data look like?"
   ]
  },
  {
   "cell_type": "code",
   "execution_count": 3,
   "metadata": {},
   "outputs": [
    {
     "data": {
      "text/plain": [
       "(25869521, 4)"
      ]
     },
     "execution_count": 3,
     "metadata": {},
     "output_type": "execute_result"
    }
   ],
   "source": [
    "df.shape"
   ]
  },
  {
   "cell_type": "markdown",
   "metadata": {},
   "source": [
    "- About 25 million rows, 4 columns"
   ]
  },
  {
   "cell_type": "code",
   "execution_count": 4,
   "metadata": {},
   "outputs": [
    {
     "name": "stdout",
     "output_type": "stream",
     "text": [
      "<class 'pandas.core.frame.DataFrame'>\n",
      "RangeIndex: 25869521 entries, 0 to 25869520\n",
      "Data columns (total 4 columns):\n",
      " #   Column        Dtype \n",
      "---  ------        ----- \n",
      " 0   Prscrbr_NPI   int64 \n",
      " 1   Prscrbr_Type  object\n",
      " 2   Gnrc_Name     object\n",
      " 3   Tot_Clms      int64 \n",
      "dtypes: int64(2), object(2)\n",
      "memory usage: 789.5+ MB\n"
     ]
    }
   ],
   "source": [
    "df.info()"
   ]
  },
  {
   "cell_type": "markdown",
   "metadata": {},
   "source": [
    "- The columns are:\n",
    "\n",
    "| Column Name  | Description                  | Dtype   | Type meaning |\n",
    "|--------------|------------------------------|---------|--------------|\n",
    "| Prscrbr_NPI  | Doctor's ID                  | int64   | an integer   |  \n",
    "| Prscrbr_Type | Doctor type                  | object  | a string     | \n",
    "| Gnrc_Name    | Drug name                    | object  | a string     | \n",
    "| Tot_Clms     | Number of prescriptions made | int64   | an integer   | "
   ]
  },
  {
   "cell_type": "code",
   "execution_count": 5,
   "metadata": {},
   "outputs": [
    {
     "data": {
      "text/html": [
       "<div>\n",
       "<style scoped>\n",
       "    .dataframe tbody tr th:only-of-type {\n",
       "        vertical-align: middle;\n",
       "    }\n",
       "\n",
       "    .dataframe tbody tr th {\n",
       "        vertical-align: top;\n",
       "    }\n",
       "\n",
       "    .dataframe thead th {\n",
       "        text-align: right;\n",
       "    }\n",
       "</style>\n",
       "<table border=\"1\" class=\"dataframe\">\n",
       "  <thead>\n",
       "    <tr style=\"text-align: right;\">\n",
       "      <th></th>\n",
       "      <th>Prscrbr_NPI</th>\n",
       "      <th>Prscrbr_Type</th>\n",
       "      <th>Gnrc_Name</th>\n",
       "      <th>Tot_Clms</th>\n",
       "    </tr>\n",
       "  </thead>\n",
       "  <tbody>\n",
       "    <tr>\n",
       "      <th>0</th>\n",
       "      <td>1861868291</td>\n",
       "      <td>NaN</td>\n",
       "      <td>Cefazolin Sodium</td>\n",
       "      <td>11</td>\n",
       "    </tr>\n",
       "    <tr>\n",
       "      <th>1</th>\n",
       "      <td>1861868291</td>\n",
       "      <td>NaN</td>\n",
       "      <td>Ceftriaxone Sodium</td>\n",
       "      <td>14</td>\n",
       "    </tr>\n",
       "    <tr>\n",
       "      <th>2</th>\n",
       "      <td>1912497371</td>\n",
       "      <td>NaN</td>\n",
       "      <td>Amoxicillin</td>\n",
       "      <td>13</td>\n",
       "    </tr>\n",
       "    <tr>\n",
       "      <th>3</th>\n",
       "      <td>1912497371</td>\n",
       "      <td>NaN</td>\n",
       "      <td>Bictegrav/Emtricit/Tenofov Ala</td>\n",
       "      <td>11</td>\n",
       "    </tr>\n",
       "    <tr>\n",
       "      <th>4</th>\n",
       "      <td>1912497371</td>\n",
       "      <td>NaN</td>\n",
       "      <td>Doxycycline Monohydrate</td>\n",
       "      <td>26</td>\n",
       "    </tr>\n",
       "    <tr>\n",
       "      <th>5</th>\n",
       "      <td>1013232149</td>\n",
       "      <td>Acupuncturist</td>\n",
       "      <td>Amlodipine Besylate</td>\n",
       "      <td>12</td>\n",
       "    </tr>\n",
       "    <tr>\n",
       "      <th>6</th>\n",
       "      <td>1013232149</td>\n",
       "      <td>Acupuncturist</td>\n",
       "      <td>Losartan Potassium</td>\n",
       "      <td>11</td>\n",
       "    </tr>\n",
       "    <tr>\n",
       "      <th>7</th>\n",
       "      <td>1013232149</td>\n",
       "      <td>Acupuncturist</td>\n",
       "      <td>Metoprolol Succinate</td>\n",
       "      <td>13</td>\n",
       "    </tr>\n",
       "    <tr>\n",
       "      <th>8</th>\n",
       "      <td>1013232149</td>\n",
       "      <td>Acupuncturist</td>\n",
       "      <td>Rosuvastatin Calcium</td>\n",
       "      <td>13</td>\n",
       "    </tr>\n",
       "    <tr>\n",
       "      <th>9</th>\n",
       "      <td>1063638625</td>\n",
       "      <td>Acupuncturist</td>\n",
       "      <td>Amlodipine Besylate</td>\n",
       "      <td>14</td>\n",
       "    </tr>\n",
       "  </tbody>\n",
       "</table>\n",
       "</div>"
      ],
      "text/plain": [
       "   Prscrbr_NPI   Prscrbr_Type                       Gnrc_Name  Tot_Clms\n",
       "0   1861868291            NaN                Cefazolin Sodium        11\n",
       "1   1861868291            NaN              Ceftriaxone Sodium        14\n",
       "2   1912497371            NaN                     Amoxicillin        13\n",
       "3   1912497371            NaN  Bictegrav/Emtricit/Tenofov Ala        11\n",
       "4   1912497371            NaN         Doxycycline Monohydrate        26\n",
       "5   1013232149  Acupuncturist             Amlodipine Besylate        12\n",
       "6   1013232149  Acupuncturist              Losartan Potassium        11\n",
       "7   1013232149  Acupuncturist            Metoprolol Succinate        13\n",
       "8   1013232149  Acupuncturist            Rosuvastatin Calcium        13\n",
       "9   1063638625  Acupuncturist             Amlodipine Besylate        14"
      ]
     },
     "execution_count": 5,
     "metadata": {},
     "output_type": "execute_result"
    }
   ],
   "source": [
    "df.head(10)"
   ]
  },
  {
   "cell_type": "markdown",
   "metadata": {},
   "source": [
    "How many absent items (NaNs) are there in the dataset?"
   ]
  },
  {
   "cell_type": "code",
   "execution_count": 6,
   "metadata": {},
   "outputs": [
    {
     "data": {
      "text/plain": [
       "Prscrbr_NPI     0\n",
       "Prscrbr_Type    5\n",
       "Gnrc_Name       0\n",
       "Tot_Clms        0\n",
       "dtype: int64"
      ]
     },
     "execution_count": 6,
     "metadata": {},
     "output_type": "execute_result"
    }
   ],
   "source": [
    "df.isna().sum()"
   ]
  },
  {
   "cell_type": "markdown",
   "metadata": {},
   "source": [
    "So there are only five absent items in the `Prscrbr_Type` column. Let's discard the corresponding rows:"
   ]
  },
  {
   "cell_type": "code",
   "execution_count": 7,
   "metadata": {},
   "outputs": [],
   "source": [
    "df = df.dropna()"
   ]
  },
  {
   "cell_type": "code",
   "execution_count": 8,
   "metadata": {},
   "outputs": [
    {
     "data": {
      "text/plain": [
       "(25869516, 4)"
      ]
     },
     "execution_count": 8,
     "metadata": {},
     "output_type": "execute_result"
    }
   ],
   "source": [
    "df.shape"
   ]
  },
  {
   "cell_type": "markdown",
   "metadata": {},
   "source": [
    "The `Prscrbr_NPI`, `Prscrbr_Type`, and `Gnrc_Name` contain categorical values. How many categories in each of them?"
   ]
  },
  {
   "cell_type": "code",
   "execution_count": 9,
   "metadata": {},
   "outputs": [
    {
     "data": {
      "text/plain": [
       "Prscrbr_NPI     1057564\n",
       "Prscrbr_Type        180\n",
       "Gnrc_Name          1757\n",
       "dtype: int64"
      ]
     },
     "execution_count": 9,
     "metadata": {},
     "output_type": "execute_result"
    }
   ],
   "source": [
    "df[['Prscrbr_NPI', 'Prscrbr_Type', 'Gnrc_Name']].nunique()"
   ]
  },
  {
   "cell_type": "markdown",
   "metadata": {},
   "source": [
    "If we were to create a matrix of `Prscrbr_NPI` by `Gnrc_Name`, with `Tot_Clms` for cell values, that matrix would be of size $1057564 \\times 1757$! How many values a matrix of this size would store?"
   ]
  },
  {
   "cell_type": "code",
   "execution_count": 10,
   "metadata": {},
   "outputs": [
    {
     "name": "stdout",
     "output_type": "stream",
     "text": [
      "1,858,139,948\n"
     ]
    }
   ],
   "source": [
    "num_positions = 1057564 * 1757\n",
    "print(f'{num_positions:,}')"
   ]
  },
  {
   "cell_type": "markdown",
   "metadata": {},
   "source": [
    "Almost two billion positions! And most of them are zeros, because we only have $25,869,516$ non-zero values."
   ]
  },
  {
   "cell_type": "code",
   "execution_count": 11,
   "metadata": {},
   "outputs": [
    {
     "name": "stdout",
     "output_type": "stream",
     "text": [
      "25,869,516\n"
     ]
    }
   ],
   "source": [
    "num_nonzero_positions = df.shape[0]\n",
    "print(f'{num_nonzero_positions:,}')"
   ]
  },
  {
   "cell_type": "markdown",
   "metadata": {},
   "source": [
    "The occupancy ratio of this matrix is very, very small:"
   ]
  },
  {
   "cell_type": "code",
   "execution_count": 12,
   "metadata": {},
   "outputs": [
    {
     "name": "stdout",
     "output_type": "stream",
     "text": [
      "1.39%\n"
     ]
    }
   ],
   "source": [
    "occupancy_ratio = num_nonzero_positions / num_positions\n",
    "print(f'{occupancy_ratio:.2%}')"
   ]
  },
  {
   "cell_type": "markdown",
   "metadata": {},
   "source": [
    "Only about $1.39\\%$ of the matrix is non-zero. Such matrices are called *sparse matrices*. There are algorithmic techniques to handle sparse matrices in an efficient manner, both in terms of amount of computation to be performed and in memory usage. We will make use of it in a bit.\n",
    "\n",
    "But we should also consider whether all of these categories in `Prscrbr_NPI` and `Gnrc_Name` are truly useful. Maybe categories with under-representation could be discarded, since we want to focus on the most present information only.\n",
    "\n",
    "Let's start with the physician type:"
   ]
  },
  {
   "cell_type": "code",
   "execution_count": 13,
   "metadata": {},
   "outputs": [],
   "source": [
    "count_Prscrbr_Type = df['Prscrbr_Type'].value_counts()"
   ]
  },
  {
   "cell_type": "code",
   "execution_count": 14,
   "metadata": {},
   "outputs": [
    {
     "data": {
      "text/plain": [
       "Prscrbr_Type\n",
       "Family Practice        6651765\n",
       "Internal Medicine      5603062\n",
       "Nurse Practitioner     5053595\n",
       "Physician Assistant    1878231\n",
       "Cardiology              710812\n",
       "Psychiatry              547364\n",
       "General Practice        407701\n",
       "Neurology               386005\n",
       "Endocrinology           271592\n",
       "Ophthalmology           260765\n",
       "Name: count, dtype: int64"
      ]
     },
     "execution_count": 14,
     "metadata": {},
     "output_type": "execute_result"
    }
   ],
   "source": [
    "count_Prscrbr_Type.head(10)"
   ]
  },
  {
   "cell_type": "markdown",
   "metadata": {},
   "source": [
    "There is a steep decline in representation from the most common type of doctor (\"Family Practice\") to the 10th most common (\"Ophtalmology\")."
   ]
  },
  {
   "cell_type": "code",
   "execution_count": 15,
   "metadata": {},
   "outputs": [
    {
     "data": {
      "text/plain": [
       "Prscrbr_Type\n",
       "Clinical Medical Laboratory                              1\n",
       "Assisted Living Facility                                 1\n",
       "Doula                                                    1\n",
       "Home Health Aide                                         1\n",
       "Independent Diagnostic Testing Facility (IDTF)           1\n",
       "Local Education Agency (LEA)                             1\n",
       "Nursing Home Administrator                               1\n",
       "Phlebology                                               1\n",
       "Public Health or Welfare Agency                          1\n",
       "Residential Treatment Facility, Physical Disabilities    1\n",
       "Name: count, dtype: int64"
      ]
     },
     "execution_count": 15,
     "metadata": {},
     "output_type": "execute_result"
    }
   ],
   "source": [
    "count_Prscrbr_Type.tail(10)"
   ]
  },
  {
   "cell_type": "markdown",
   "metadata": {},
   "source": [
    "The least represented types of doctor have only one entry each.\n",
    "\n",
    "Let's decide on a cutoff value to filter the least common types. It will be quite arbitrary, and it is worthwhile to consider whether this removal of information will qualitatively impact the conclusions to be obtained from the analysis of this dataset - keep this in mind, ok?"
   ]
  },
  {
   "cell_type": "code",
   "execution_count": 16,
   "metadata": {},
   "outputs": [],
   "source": [
    "import numpy as np"
   ]
  },
  {
   "cell_type": "code",
   "execution_count": 17,
   "metadata": {},
   "outputs": [
    {
     "data": {
      "text/plain": [
       "0.00          1.00\n",
       "0.05          1.00\n",
       "0.10          2.00\n",
       "0.15          6.00\n",
       "0.20         11.00\n",
       "0.25         19.00\n",
       "0.30         28.00\n",
       "0.35         46.30\n",
       "0.40        124.20\n",
       "0.45        193.30\n",
       "0.50        465.50\n",
       "0.55       1169.85\n",
       "0.60       2337.00\n",
       "0.65       4591.80\n",
       "0.70       8970.40\n",
       "0.75      18265.25\n",
       "0.80      50342.20\n",
       "0.85      99978.15\n",
       "0.90     156544.30\n",
       "0.95     261306.35\n",
       "1.00    6651765.00\n",
       "Name: count, dtype: float64"
      ]
     },
     "execution_count": 17,
     "metadata": {},
     "output_type": "execute_result"
    }
   ],
   "source": [
    "count_Prscrbr_Type.quantile(np.linspace(0, 1, 21))"
   ]
  },
  {
   "cell_type": "markdown",
   "metadata": {},
   "source": [
    "Making a list of quantiles from zero to $100\\%$, in steps of $5\\%$, we see an almost exponential growth in number of physicians per type. Let's cut aggressively then: it will not change the number of data points substantially."
   ]
  },
  {
   "cell_type": "code",
   "execution_count": 18,
   "metadata": {},
   "outputs": [],
   "source": [
    "q_Prscrbr_Type = 0.70\n",
    "cut_value = count_Prscrbr_Type.quantile(q_Prscrbr_Type)\n",
    "\n",
    "useful_Prscrbr_Type = count_Prscrbr_Type[count_Prscrbr_Type >= cut_value].index"
   ]
  },
  {
   "cell_type": "code",
   "execution_count": 19,
   "metadata": {},
   "outputs": [
    {
     "data": {
      "text/plain": [
       "Index(['Family Practice', 'Internal Medicine', 'Nurse Practitioner',\n",
       "       'Physician Assistant', 'Cardiology', 'Psychiatry', 'General Practice',\n",
       "       'Neurology', 'Endocrinology', 'Ophthalmology', 'Nephrology',\n",
       "       'Emergency Medicine', 'Dentist', 'Pulmonary Disease',\n",
       "       'Gastroenterology', 'Hematology-Oncology', 'Dermatology', 'Urology',\n",
       "       'Rheumatology', 'Hospitalist', 'Interventional Cardiology',\n",
       "       'Geriatric Medicine',\n",
       "       'Student in an Organized Health Care Education/Training Program',\n",
       "       'Optometry', 'Obstetrics & Gynecology', 'Psychiatry & Neurology',\n",
       "       'Orthopedic Surgery', 'Infectious Disease',\n",
       "       'Physical Medicine and Rehabilitation', 'Otolaryngology', 'Podiatry',\n",
       "       'General Surgery', 'Medical Oncology', 'Allergy/ Immunology',\n",
       "       'Clinical Cardiac Electrophysiology', 'Pharmacist', 'Anesthesiology',\n",
       "       'Pain Management', 'Pediatric Medicine',\n",
       "       'Certified Clinical Nurse Specialist', 'Interventional Pain Management',\n",
       "       'Oral Surgery (Dentist only)', 'Critical Care (Intensivists)',\n",
       "       'Advanced Heart Failure and Transplant Cardiology',\n",
       "       'Hospice and Palliative Care', 'Neuropsychiatry',\n",
       "       'Osteopathic Manipulative Medicine', 'Neurosurgery', 'Vascular Surgery',\n",
       "       'Radiation Oncology', 'Family Medicine', 'Specialist', 'Hematology',\n",
       "       'Sports Medicine'],\n",
       "      dtype='object', name='Prscrbr_Type')"
      ]
     },
     "execution_count": 19,
     "metadata": {},
     "output_type": "execute_result"
    }
   ],
   "source": [
    "useful_Prscrbr_Type"
   ]
  },
  {
   "cell_type": "code",
   "execution_count": 20,
   "metadata": {},
   "outputs": [],
   "source": [
    "df = df[df['Prscrbr_Type'].isin(useful_Prscrbr_Type)]"
   ]
  },
  {
   "cell_type": "code",
   "execution_count": 21,
   "metadata": {},
   "outputs": [
    {
     "data": {
      "text/plain": [
       "(25754507, 4)"
      ]
     },
     "execution_count": 21,
     "metadata": {},
     "output_type": "execute_result"
    }
   ],
   "source": [
    "df.shape"
   ]
  },
  {
   "cell_type": "markdown",
   "metadata": {},
   "source": [
    "We only reduced the number of data points from $25,869,516$ to $25,754,507$!"
   ]
  },
  {
   "cell_type": "markdown",
   "metadata": {},
   "source": [
    "Now let's look into the physicians:"
   ]
  },
  {
   "cell_type": "code",
   "execution_count": 22,
   "metadata": {},
   "outputs": [],
   "source": [
    "count_Prscrbr_NPI = df['Prscrbr_NPI'].value_counts()"
   ]
  },
  {
   "cell_type": "code",
   "execution_count": 23,
   "metadata": {},
   "outputs": [
    {
     "data": {
      "text/plain": [
       "0.00      1.0\n",
       "0.05      1.0\n",
       "0.10      1.0\n",
       "0.15      1.0\n",
       "0.20      2.0\n",
       "0.25      2.0\n",
       "0.30      3.0\n",
       "0.35      4.0\n",
       "0.40      5.0\n",
       "0.45      6.0\n",
       "0.50      8.0\n",
       "0.55     10.0\n",
       "0.60     13.0\n",
       "0.65     17.0\n",
       "0.70     22.0\n",
       "0.75     29.0\n",
       "0.80     39.0\n",
       "0.85     53.0\n",
       "0.90     75.0\n",
       "0.95    111.0\n",
       "1.00    590.0\n",
       "Name: count, dtype: float64"
      ]
     },
     "execution_count": 23,
     "metadata": {},
     "output_type": "execute_result"
    }
   ],
   "source": [
    "count_Prscrbr_NPI.quantile(np.linspace(0, 1, 21))"
   ]
  },
  {
   "cell_type": "markdown",
   "metadata": {},
   "source": [
    "Again, a very exponential-like growth of number of prescriptions per physician. Let's cut aggressively again, but remember: this may impact the quality of the subsequent analysis, so it may be interesting to revisit these arbitrary decisions later."
   ]
  },
  {
   "cell_type": "code",
   "execution_count": 24,
   "metadata": {},
   "outputs": [],
   "source": [
    "q_Prscrbr_NPI = 0.5\n",
    "cut_value = count_Prscrbr_NPI.quantile(q_Prscrbr_NPI)\n",
    "\n",
    "useful_Prscrbr_NPI = count_Prscrbr_NPI[count_Prscrbr_NPI >= cut_value].index"
   ]
  },
  {
   "cell_type": "code",
   "execution_count": 25,
   "metadata": {},
   "outputs": [
    {
     "data": {
      "text/plain": [
       "537484"
      ]
     },
     "execution_count": 25,
     "metadata": {},
     "output_type": "execute_result"
    }
   ],
   "source": [
    "len(useful_Prscrbr_NPI)"
   ]
  },
  {
   "cell_type": "code",
   "execution_count": 26,
   "metadata": {},
   "outputs": [],
   "source": [
    "df = df[df['Prscrbr_NPI'].isin(useful_Prscrbr_NPI)]"
   ]
  },
  {
   "cell_type": "code",
   "execution_count": 27,
   "metadata": {},
   "outputs": [
    {
     "data": {
      "text/plain": [
       "(24297207, 4)"
      ]
     },
     "execution_count": 27,
     "metadata": {},
     "output_type": "execute_result"
    }
   ],
   "source": [
    "df.shape"
   ]
  },
  {
   "cell_type": "markdown",
   "metadata": {},
   "source": [
    "We are keeping a large portion of the information still: $24,297,207$, from the previous number of $25,754,507$ rows."
   ]
  },
  {
   "cell_type": "markdown",
   "metadata": {},
   "source": [
    "Now let's investigate the drugs:"
   ]
  },
  {
   "cell_type": "code",
   "execution_count": 28,
   "metadata": {},
   "outputs": [],
   "source": [
    "count_Gnrc_Name = df['Gnrc_Name'].value_counts()"
   ]
  },
  {
   "cell_type": "code",
   "execution_count": 29,
   "metadata": {},
   "outputs": [
    {
     "data": {
      "text/plain": [
       "Gnrc_Name\n",
       "Levothyroxine Sodium    399226\n",
       "Metformin Hcl           383512\n",
       "Gabapentin              315303\n",
       "Atorvastatin Calcium    307186\n",
       "Albuterol Sulfate       301663\n",
       "Amlodipine Besylate     299293\n",
       "Lisinopril              286633\n",
       "Losartan Potassium      270682\n",
       "Omeprazole              260114\n",
       "Furosemide              256761\n",
       "Name: count, dtype: int64"
      ]
     },
     "execution_count": 29,
     "metadata": {},
     "output_type": "execute_result"
    }
   ],
   "source": [
    "count_Gnrc_Name.head(10)"
   ]
  },
  {
   "cell_type": "code",
   "execution_count": 30,
   "metadata": {},
   "outputs": [
    {
     "data": {
      "text/plain": [
       "Gnrc_Name\n",
       "Caplacizumab-Yhdp                 1\n",
       "Lurbinectedin                     1\n",
       "Belantamab Mafodotin-Blmf         1\n",
       "Folic Acid/B Cplx/C/Selen/Zinc    1\n",
       "Zinc/Copper/Manganese/Selenium    1\n",
       "Evinacumab-Dgnb                   1\n",
       "Pediatric Multivitamin No.17      1\n",
       "Ciprofloxacin                     1\n",
       "Ciprofloxacin Hcl/Fluocinolone    1\n",
       "Methotrexate                      1\n",
       "Name: count, dtype: int64"
      ]
     },
     "execution_count": 30,
     "metadata": {},
     "output_type": "execute_result"
    }
   ],
   "source": [
    "count_Gnrc_Name.tail(10)"
   ]
  },
  {
   "cell_type": "code",
   "execution_count": 31,
   "metadata": {},
   "outputs": [
    {
     "data": {
      "text/plain": [
       "0.00         1.00\n",
       "0.05         1.00\n",
       "0.10         3.00\n",
       "0.15         7.00\n",
       "0.20        13.00\n",
       "0.25        23.00\n",
       "0.30        37.00\n",
       "0.35        59.00\n",
       "0.40       111.00\n",
       "0.45       187.25\n",
       "0.50       303.00\n",
       "0.55       601.75\n",
       "0.60       998.00\n",
       "0.65      1627.50\n",
       "0.70      2728.00\n",
       "0.75      4894.50\n",
       "0.80      7601.00\n",
       "0.85     14959.00\n",
       "0.90     33058.50\n",
       "0.95     93739.25\n",
       "1.00    399226.00\n",
       "Name: count, dtype: float64"
      ]
     },
     "execution_count": 31,
     "metadata": {},
     "output_type": "execute_result"
    }
   ],
   "source": [
    "count_Gnrc_Name.quantile(np.linspace(0, 1, 21))"
   ]
  },
  {
   "cell_type": "markdown",
   "metadata": {},
   "source": [
    "Again, an exponential growth in quantiles, let's cut:"
   ]
  },
  {
   "cell_type": "code",
   "execution_count": 32,
   "metadata": {},
   "outputs": [],
   "source": [
    "q_Gnrc_Name = 0.5\n",
    "cut_value = count_Gnrc_Name.quantile(q_Gnrc_Name)\n",
    "\n",
    "useful_Gnrc_Name = count_Gnrc_Name[count_Gnrc_Name >= cut_value].index"
   ]
  },
  {
   "cell_type": "code",
   "execution_count": 33,
   "metadata": {},
   "outputs": [
    {
     "data": {
      "text/plain": [
       "Index(['Levothyroxine Sodium', 'Metformin Hcl', 'Gabapentin',\n",
       "       'Atorvastatin Calcium', 'Albuterol Sulfate', 'Amlodipine Besylate',\n",
       "       'Lisinopril', 'Losartan Potassium', 'Omeprazole', 'Furosemide',\n",
       "       ...\n",
       "       'Alectinib Hcl', 'Sulfacetamide Sodium', 'Fondaparinux Sodium',\n",
       "       'Sub-Q Insulin Device, 30 Unit', 'Trametinib Dimethyl Sulfoxide',\n",
       "       'Chlordiazepoxide/Clidinium Br', 'Erythromycin Base In Ethanol',\n",
       "       'Lamivudine/Zidovudine', 'Emtricita/Rilpivirine/Tenof Df',\n",
       "       'Dipyridamole'],\n",
       "      dtype='object', name='Gnrc_Name', length=875)"
      ]
     },
     "execution_count": 33,
     "metadata": {},
     "output_type": "execute_result"
    }
   ],
   "source": [
    "useful_Gnrc_Name"
   ]
  },
  {
   "cell_type": "code",
   "execution_count": 34,
   "metadata": {},
   "outputs": [],
   "source": [
    "df = df[df['Gnrc_Name'].isin(useful_Gnrc_Name)]"
   ]
  },
  {
   "cell_type": "code",
   "execution_count": 35,
   "metadata": {},
   "outputs": [
    {
     "data": {
      "text/plain": [
       "(24246835, 4)"
      ]
     },
     "execution_count": 35,
     "metadata": {},
     "output_type": "execute_result"
    }
   ],
   "source": [
    "df.shape"
   ]
  },
  {
   "cell_type": "markdown",
   "metadata": {},
   "source": [
    "Finally, after all this filtering, we went from $25,869,521$ items to $24,246,835$."
   ]
  },
  {
   "cell_type": "code",
   "execution_count": 36,
   "metadata": {},
   "outputs": [
    {
     "name": "stdout",
     "output_type": "stream",
     "text": [
      "We dropped 6.27% of the data\n"
     ]
    }
   ],
   "source": [
    "print(f'We dropped {1.0 - 24246835/25869521:.2%} of the data')"
   ]
  },
  {
   "cell_type": "code",
   "execution_count": 37,
   "metadata": {},
   "outputs": [
    {
     "name": "stdout",
     "output_type": "stream",
     "text": [
      "There are 537,484 doctors left.\n"
     ]
    }
   ],
   "source": [
    "num_doctors = df['Prscrbr_NPI'].nunique()\n",
    "print(f'There are {num_doctors:,} doctors left.')"
   ]
  },
  {
   "cell_type": "code",
   "execution_count": 38,
   "metadata": {},
   "outputs": [
    {
     "name": "stdout",
     "output_type": "stream",
     "text": [
      "There are 875 drugs left.\n"
     ]
    }
   ],
   "source": [
    "num_drugs = df['Gnrc_Name'].nunique()\n",
    "print(f'There are {num_drugs:,} drugs left.')"
   ]
  },
  {
   "cell_type": "code",
   "execution_count": 39,
   "metadata": {},
   "outputs": [
    {
     "name": "stdout",
     "output_type": "stream",
     "text": [
      "There are 537,484 times 875 = 470,298,500 possible pairs (doctor, drug), but the vast majority of them will have zero prescriptions.\n"
     ]
    }
   ],
   "source": [
    "print( \\\n",
    "    f'There are {num_doctors:,} times {num_drugs:,} ' + \\\n",
    "    f'= {num_doctors * num_drugs:,} possible pairs (doctor, drug), ' + \\\n",
    "    'but the vast majority of them will have zero prescriptions.' \\\n",
    ")"
   ]
  },
  {
   "cell_type": "code",
   "execution_count": 40,
   "metadata": {},
   "outputs": [
    {
     "name": "stdout",
     "output_type": "stream",
     "text": [
      "There are 24,246,835 records left. The occupancy ratio is 5.16%.\n"
     ]
    }
   ],
   "source": [
    "print( \\\n",
    "    f'There are {df.shape[0]:,} records left.' + \\\n",
    "    f' The occupancy ratio is {df.shape[0] / (num_doctors * num_drugs):.2%}.' \\\n",
    ")"
   ]
  },
  {
   "cell_type": "markdown",
   "metadata": {},
   "source": [
    "Our matrix of prescriptions by doctors and drugs would still be sparse, but with a better occupancy ratio now."
   ]
  },
  {
   "cell_type": "markdown",
   "metadata": {},
   "source": [
    "Let's create a sparse matrix from the dataframe. The trick is to convert the columns of interest to categorical data, so that Pandas will identify the unique doctors and drugs, and make an integer code for each one, from zero to the number of unique items minus one."
   ]
  },
  {
   "cell_type": "code",
   "execution_count": 41,
   "metadata": {},
   "outputs": [],
   "source": [
    "df = df.reset_index(drop=True)"
   ]
  },
  {
   "cell_type": "code",
   "execution_count": 42,
   "metadata": {},
   "outputs": [],
   "source": [
    "df['Prscrbr_NPI'] = df['Prscrbr_NPI'].astype('category')\n",
    "df['Gnrc_Name'] = df['Gnrc_Name'].astype('category')\n",
    "df['Prscrbr_Type'] = df['Prscrbr_Type'].astype('category')\n",
    "df['Tot_Clms'] = df['Tot_Clms'].astype(float)"
   ]
  },
  {
   "cell_type": "code",
   "execution_count": 43,
   "metadata": {},
   "outputs": [
    {
     "name": "stdout",
     "output_type": "stream",
     "text": [
      "<class 'pandas.core.frame.DataFrame'>\n",
      "RangeIndex: 24246835 entries, 0 to 24246834\n",
      "Data columns (total 4 columns):\n",
      " #   Column        Dtype   \n",
      "---  ------        -----   \n",
      " 0   Prscrbr_NPI   category\n",
      " 1   Prscrbr_Type  category\n",
      " 2   Gnrc_Name     category\n",
      " 3   Tot_Clms      float64 \n",
      "dtypes: category(3), float64(1)\n",
      "memory usage: 367.1 MB\n"
     ]
    }
   ],
   "source": [
    "df.info()"
   ]
  },
  {
   "cell_type": "markdown",
   "metadata": {},
   "source": [
    "Let's see the categorical encoding in action. What are the drugs?"
   ]
  },
  {
   "cell_type": "code",
   "execution_count": 44,
   "metadata": {},
   "outputs": [
    {
     "data": {
      "text/plain": [
       "Index(['0.9 % Sodium Chloride', 'Abacavir Sulfate',\n",
       "       'Abacavir Sulfate/Lamivudine', 'Abacavir/Dolutegravir/Lamivudi',\n",
       "       'Abaloparatide', 'Abatacept', 'Abemaciclib', 'Abiraterone Acetate',\n",
       "       'Acalabrutinib', 'Acamprosate Calcium',\n",
       "       ...\n",
       "       'Voriconazole', 'Vortioxetine Hydrobromide', 'Warfarin Sodium',\n",
       "       'Zafirlukast', 'Zaleplon', 'Zanubrutinib', 'Ziprasidone Hcl',\n",
       "       'Zolmitriptan', 'Zolpidem Tartrate', 'Zonisamide'],\n",
       "      dtype='object', length=875)"
      ]
     },
     "execution_count": 44,
     "metadata": {},
     "output_type": "execute_result"
    }
   ],
   "source": [
    "df['Gnrc_Name'].cat.categories"
   ]
  },
  {
   "cell_type": "markdown",
   "metadata": {},
   "source": [
    "So each drug is associated with an index number. In this case, \"0.9 % Sodium Chloride\" is drug number zero, \"Abacavir Sulfate\" is drug number one, and so on."
   ]
  },
  {
   "cell_type": "markdown",
   "metadata": {},
   "source": [
    "Let's see what is stored now in the dataframe:"
   ]
  },
  {
   "cell_type": "code",
   "execution_count": 45,
   "metadata": {},
   "outputs": [
    {
     "data": {
      "text/plain": [
       "0          Amiodarone Hcl\n",
       "1     Amlodipine Besylate\n",
       "2    Atorvastatin Calcium\n",
       "3     Bisoprolol Fumarate\n",
       "4              Carvedilol\n",
       "Name: Gnrc_Name, dtype: category\n",
       "Categories (875, object): ['0.9 % Sodium Chloride', 'Abacavir Sulfate', 'Abacavir Sulfate/Lamivudine', 'Abacavir/Dolutegravir/Lamivudi', ..., 'Ziprasidone Hcl', 'Zolmitriptan', 'Zolpidem Tartrate', 'Zonisamide']"
      ]
     },
     "execution_count": 45,
     "metadata": {},
     "output_type": "execute_result"
    }
   ],
   "source": [
    "df['Gnrc_Name'].head()"
   ]
  },
  {
   "cell_type": "markdown",
   "metadata": {},
   "source": [
    "Looks like the same as before. But what about the equivalent codes?"
   ]
  },
  {
   "cell_type": "code",
   "execution_count": 46,
   "metadata": {},
   "outputs": [
    {
     "data": {
      "text/plain": [
       "0     36\n",
       "1     39\n",
       "2     64\n",
       "3     97\n",
       "4    144\n",
       "dtype: int16"
      ]
     },
     "execution_count": 46,
     "metadata": {},
     "output_type": "execute_result"
    }
   ],
   "source": [
    "df['Gnrc_Name'].cat.codes.head()"
   ]
  },
  {
   "cell_type": "markdown",
   "metadata": {},
   "source": [
    "Do the codes and names really correspond to each other? Sure they do! Look at this:"
   ]
  },
  {
   "cell_type": "code",
   "execution_count": 47,
   "metadata": {},
   "outputs": [
    {
     "name": "stdout",
     "output_type": "stream",
     "text": [
      "code is 36, name is Amiodarone Hcl\n",
      "code is 39, name is Amlodipine Besylate\n",
      "code is 64, name is Atorvastatin Calcium\n",
      "code is 97, name is Bisoprolol Fumarate\n",
      "code is 144, name is Carvedilol\n"
     ]
    }
   ],
   "source": [
    "for code in df['Gnrc_Name'].cat.codes.head():\n",
    "    print(f'code is {code}, name is {df['Gnrc_Name'].cat.categories[code]}')"
   ]
  },
  {
   "cell_type": "markdown",
   "metadata": {},
   "source": [
    "Now we can make a matrix of the data. We will use the doctor NPI as the row index and the drug name as the column index. The value of each cell will be the number of prescriptions.\n",
    "\n",
    "Mathematically, this is a matrix like any other. Computationally, we will make a sparse matrix in the CSR - Compressed Sparse Row - format (https://en.wikipedia.org/wiki/Sparse_matrix)"
   ]
  },
  {
   "cell_type": "code",
   "execution_count": 48,
   "metadata": {},
   "outputs": [],
   "source": [
    "row_index = df['Prscrbr_NPI'].cat.codes\n",
    "num_rows = df['Prscrbr_NPI'].cat.categories.size\n",
    "\n",
    "col_index = df['Gnrc_Name'].cat.codes\n",
    "num_cols = df['Gnrc_Name'].cat.categories.size\n",
    "\n",
    "values = df['Tot_Clms'].values"
   ]
  },
  {
   "cell_type": "code",
   "execution_count": 49,
   "metadata": {},
   "outputs": [],
   "source": [
    "from scipy.sparse import csr_matrix\n",
    "\n",
    "sparse_matrix = csr_matrix(\n",
    "    (values, (row_index, col_index)),\n",
    "    shape=(num_rows, num_cols),\n",
    ")"
   ]
  },
  {
   "cell_type": "code",
   "execution_count": 50,
   "metadata": {},
   "outputs": [
    {
     "data": {
      "text/plain": [
       "(537484, 875)"
      ]
     },
     "execution_count": 50,
     "metadata": {},
     "output_type": "execute_result"
    }
   ],
   "source": [
    "sparse_matrix.shape"
   ]
  },
  {
   "cell_type": "markdown",
   "metadata": {},
   "source": [
    "Now we are ready for the Singular Value Decomposition (SVD). What we want to do is to decompose our matrix $\\bm{X} \\in \\mathbb{R}^{m \\times n}$ of doctors per medication (where $m$ is the number of doctors and $n$ is the number of medications, $m \\gg n$) into a product of three matrices: $\\bm{U} \\in \\mathbb{R}^{m \\times m}$, $S \\in \\mathbb{R}^{m \\times n}$, and $V^{T} \\in \\mathbb{R}^{n \\times n}$ such that:\n",
    "\n",
    "- $\\bm{X} = \\bm{U} \\bm{S} \\bm{V}^{T}$\n",
    "- Matrices $\\bm{U}$ and $\\bm{V}$ are unitary: \n",
    "    - $\\bm{U}^{T} \\bm{U} = \\bm{U} \\bm{U}^{T} = \\bm{I}^{(m)}$ is the identity matrix of size $m$\n",
    "    - $\\bm{V}^{T} \\bm{V} = \\bm{V} \\bm{V}^{T} = \\bm{I}^{(n)}$ is the identity matrix of size $n$\n",
    "- Matrix $S$ is formed by two vertically stacked blocks (since $m \\gg n$):\n",
    "    - The top block is a diagonal matrix $\\Sigma \\in \\mathbb{R}^{n \\times n}$. The diagonal elements are all non-negative (i.e. are positive or zero) and placed in decreasing order. These numbers are the *singular values* of $\\bm{X}$\n",
    "    - The bottom block is a matrix of zeros, of size $(m - n) \\times n$"
   ]
  },
  {
   "cell_type": "code",
   "execution_count": null,
   "metadata": {},
   "outputs": [],
   "source": [
    "from scipy.sparse.linalg import svds"
   ]
  },
  {
   "cell_type": "code",
   "execution_count": null,
   "metadata": {},
   "outputs": [],
   "source": [
    "U, sigma, Vt = svds(sparse_matrix, k=20)"
   ]
  },
  {
   "cell_type": "code",
   "execution_count": null,
   "metadata": {},
   "outputs": [],
   "source": [
    "U.shape, sigma.shape, Vt.shape"
   ]
  },
  {
   "cell_type": "code",
   "execution_count": null,
   "metadata": {},
   "outputs": [],
   "source": [
    "np.savetxt(DATA_DIR / 'features.tsv', Vt.T, delimiter='\\t')"
   ]
  },
  {
   "cell_type": "code",
   "execution_count": null,
   "metadata": {},
   "outputs": [],
   "source": [
    "np.savetxt(\n",
    "    DATA_DIR / 'labels.tsv',\n",
    "    df['Gnrc_Name'].cat.categories.values,\n",
    "    delimiter='\\t',\n",
    "    fmt='%s',\n",
    "    encoding='utf-8',\n",
    ")"
   ]
  },
  {
   "cell_type": "code",
   "execution_count": null,
   "metadata": {},
   "outputs": [],
   "source": []
  }
 ],
 "metadata": {
  "kernelspec": {
   "display_name": "dorgas",
   "language": "python",
   "name": "python3"
  },
  "language_info": {
   "codemirror_mode": {
    "name": "ipython",
    "version": 3
   },
   "file_extension": ".py",
   "mimetype": "text/x-python",
   "name": "python",
   "nbconvert_exporter": "python",
   "pygments_lexer": "ipython3",
   "version": "3.12.4"
  }
 },
 "nbformat": 4,
 "nbformat_minor": 2
}
