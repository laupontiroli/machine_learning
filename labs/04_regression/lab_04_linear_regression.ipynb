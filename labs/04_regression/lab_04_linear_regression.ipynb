{
 "cells": [
  {
   "cell_type": "markdown",
   "metadata": {},
   "source": [
    "**Exercise** Exploring linear regression"
   ]
  },
  {
   "cell_type": "markdown",
   "metadata": {},
   "source": [
    "a) Make an artificial test case: write a function that receives an integer $n$ and\n",
    "\n",
    "- Generates $n$ random values uniformly distributed in the interval $[0.0, 2.0]$\n",
    "- Computes $y = 4 + 3x$\n",
    "- Adds a Gaussian noise to $y$, of zero mean and unit standard deviation"
   ]
  },
  {
   "cell_type": "code",
   "execution_count": null,
   "metadata": {},
   "outputs": [],
   "source": []
  },
  {
   "cell_type": "markdown",
   "metadata": {},
   "source": [
    "b) Generate $n=10$ points and plot the points. Fit a linear regression model to this data. Record the fit parameters. Now repeat the procedure a total of $1000$ times and plot the histogram of the intercept and the coefficient."
   ]
  },
  {
   "cell_type": "code",
   "execution_count": null,
   "metadata": {},
   "outputs": [],
   "source": []
  },
  {
   "cell_type": "markdown",
   "metadata": {},
   "source": [
    "c) Repeat item (b) but for $n=1000$ points. What do you observe?"
   ]
  },
  {
   "cell_type": "code",
   "execution_count": null,
   "metadata": {},
   "outputs": [],
   "source": []
  },
  {
   "cell_type": "markdown",
   "metadata": {},
   "source": [
    "**Exercise** Exploring polynomial regression"
   ]
  },
  {
   "cell_type": "markdown",
   "metadata": {},
   "source": [
    "a) Make an artificial test case: write a function that receives an integer $n$ and\n",
    "\n",
    "- Generates $n$ random values uniformly distributed in the interval $[-3.0, 3.0]$\n",
    "- Computes $y = 0.5 x^2 + x + 2$\n",
    "- Adds a Gaussian noise to $y$, of zero mean and unit standard deviation"
   ]
  },
  {
   "cell_type": "code",
   "execution_count": null,
   "metadata": {},
   "outputs": [],
   "source": []
  },
  {
   "cell_type": "markdown",
   "metadata": {},
   "source": [
    "b) Generate $n=10$ points and plot the points. Fit a linear regression model to this data. Record the fit parameters. Now repeat the procedure a total of $1000$ times and plot the histogram of the parameters."
   ]
  },
  {
   "cell_type": "code",
   "execution_count": null,
   "metadata": {},
   "outputs": [],
   "source": []
  },
  {
   "cell_type": "markdown",
   "metadata": {},
   "source": [
    "c) Repeat item (b) but for $n=1000$ points. What do you observe?"
   ]
  },
  {
   "cell_type": "code",
   "execution_count": null,
   "metadata": {},
   "outputs": [],
   "source": []
  }
 ],
 "metadata": {
  "kernelspec": {
   "display_name": "ml",
   "language": "python",
   "name": "python3"
  },
  "language_info": {
   "codemirror_mode": {
    "name": "ipython",
    "version": 3
   },
   "file_extension": ".py",
   "mimetype": "text/x-python",
   "name": "python",
   "nbconvert_exporter": "python",
   "pygments_lexer": "ipython3",
   "version": "3.12.4"
  }
 },
 "nbformat": 4,
 "nbformat_minor": 2
}
